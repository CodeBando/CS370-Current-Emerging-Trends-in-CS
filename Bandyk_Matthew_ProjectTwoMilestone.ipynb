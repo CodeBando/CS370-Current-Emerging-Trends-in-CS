{
 "cells": [
  {
   "cell_type": "markdown",
   "metadata": {},
   "source": [
    "# Treasure Hunt Game Notebook\n",
    "\n",
    "## Read and Review Your Starter Code\n",
    "The theme of this project is a popular treasure hunt game in which the player needs to find the treasure before the pirate does. While you will not be developing the entire game, you will write the part of the game that represents the intelligent agent, which is a pirate in this case. The pirate will try to find the optimal path to the treasure using deep Q-learning. \n",
    "\n",
    "You have been provided with two Python classes and this notebook to help you with this assignment. The first class, TreasureMaze.py, represents the environment, which includes a maze object defined as a matrix. The second class, GameExperience.py, stores the episodes – that is, all the states that come in between the initial state and the terminal state. This is later used by the agent for learning by experience, called \"exploration\". This notebook shows how to play a game. Your task is to complete the deep Q-learning implementation for which a skeleton implementation has been provided. The code blocks you will need to complete has #TODO as a header.\n",
    "\n",
    "First, read and review the next few code and instruction blocks to understand the code that you have been given."
   ]
  },
  {
   "cell_type": "code",
   "execution_count": 1,
   "metadata": {},
   "outputs": [
    {
     "name": "stderr",
     "output_type": "stream",
     "text": [
      "Using TensorFlow backend.\n"
     ]
    }
   ],
   "source": [
    "from __future__ import print_function\n",
    "import os, sys, time, datetime, json, random\n",
    "import numpy as np\n",
    "from keras.models import Sequential\n",
    "from keras.layers.core import Dense, Activation\n",
    "from keras.optimizers import SGD , Adam, RMSprop\n",
    "from keras.layers.advanced_activations import PReLU\n",
    "import matplotlib.pyplot as plt\n",
    "from TreasureMaze import TreasureMaze\n",
    "from GameExperience import GameExperience\n",
    "%matplotlib inline"
   ]
  },
  {
   "cell_type": "markdown",
   "metadata": {},
   "source": [
    "The following code block contains an 8x8 matrix that will be used as a maze object:"
   ]
  },
  {
   "cell_type": "code",
   "execution_count": 2,
   "metadata": {},
   "outputs": [],
   "source": [
    "maze = np.array([\n",
    "    [ 1.,  0.,  1.,  1.,  1.,  1.,  1.,  1.],\n",
    "    [ 1.,  0.,  1.,  1.,  1.,  0.,  1.,  1.],\n",
    "    [ 1.,  1.,  1.,  1.,  0.,  1.,  0.,  1.],\n",
    "    [ 1.,  1.,  1.,  0.,  1.,  1.,  1.,  1.],\n",
    "    [ 1.,  1.,  0.,  1.,  1.,  1.,  1.,  1.],\n",
    "    [ 1.,  1.,  1.,  0.,  1.,  0.,  0.,  0.],\n",
    "    [ 1.,  1.,  1.,  0.,  1.,  1.,  1.,  1.],\n",
    "    [ 1.,  1.,  1.,  1.,  0.,  1.,  1.,  1.]\n",
    "])"
   ]
  },
  {
   "cell_type": "markdown",
   "metadata": {},
   "source": [
    "This helper function allows a visual representation of the maze object:"
   ]
  },
  {
   "cell_type": "code",
   "execution_count": 3,
   "metadata": {},
   "outputs": [],
   "source": [
    "def show(qmaze):\n",
    "    plt.grid('on')\n",
    "    nrows, ncols = qmaze.maze.shape\n",
    "    ax = plt.gca()\n",
    "    ax.set_xticks(np.arange(0.5, nrows, 1))\n",
    "    ax.set_yticks(np.arange(0.5, ncols, 1))\n",
    "    ax.set_xticklabels([])\n",
    "    ax.set_yticklabels([])\n",
    "    canvas = np.copy(qmaze.maze)\n",
    "    for row,col in qmaze.visited:\n",
    "        canvas[row,col] = 0.6\n",
    "    pirate_row, pirate_col, _ = qmaze.state\n",
    "    canvas[pirate_row, pirate_col] = 0.3   # pirate cell\n",
    "    canvas[nrows-1, ncols-1] = 0.9 # treasure cell\n",
    "    img = plt.imshow(canvas, interpolation='none', cmap='gray')\n",
    "    return img"
   ]
  },
  {
   "cell_type": "markdown",
   "metadata": {},
   "source": [
    "The pirate agent can move in four directions: left, right, up, and down. \n",
    "\n",
    "While the agent primarily learns by experience through exploitation, often, the agent can choose to explore the environment to find previously undiscovered paths. This is called \"exploration\" and is defined by epsilon. This value is typically a lower value such as 0.1, which means for every ten attempts, the agent will attempt to learn by experience nine times and will randomly explore a new path one time. You are encouraged to try various values for the exploration factor and see how the algorithm performs."
   ]
  },
  {
   "cell_type": "code",
   "execution_count": 4,
   "metadata": {},
   "outputs": [],
   "source": [
    "LEFT = 0\n",
    "UP = 1\n",
    "RIGHT = 2\n",
    "DOWN = 3\n",
    "\n",
    "\n",
    "# Exploration factor\n",
    "epsilon = 0.1\n",
    "\n",
    "# Actions dictionary\n",
    "actions_dict = {\n",
    "    LEFT: 'left',\n",
    "    UP: 'up',\n",
    "    RIGHT: 'right',\n",
    "    DOWN: 'down',\n",
    "}\n",
    "\n",
    "num_actions = len(actions_dict)\n"
   ]
  },
  {
   "cell_type": "markdown",
   "metadata": {},
   "source": [
    "The sample code block and output below show creating a maze object and performing one action (DOWN), which returns the reward. The resulting updated environment is visualized."
   ]
  },
  {
   "cell_type": "code",
   "execution_count": 5,
   "metadata": {},
   "outputs": [
    {
     "name": "stdout",
     "output_type": "stream",
     "text": [
      "reward= -0.04\n"
     ]
    },
    {
     "data": {
      "text/plain": [
       "<matplotlib.image.AxesImage at 0x2065d043a08>"
      ]
     },
     "execution_count": 5,
     "metadata": {},
     "output_type": "execute_result"
    },
    {
     "data": {
      "image/png": "[encoded data removed]",
      "text/plain": [
       "<Figure size 432x288 with 1 Axes>"
      ]
     },
     "metadata": {
      "needs_background": "light"
     },
     "output_type": "display_data"
    }
   ],
   "source": [
    "qmaze = TreasureMaze(maze)\n",
    "canvas, reward, game_over = qmaze.act(DOWN)\n",
    "print(\"reward=\", reward)\n",
    "show(qmaze)"
   ]
  },
  {
   "cell_type": "markdown",
   "metadata": {},
   "source": [
    "This function simulates a full game based on the provided trained model. The other parameters include the TreasureMaze object and the starting position of the pirate."
   ]
  },
  {
   "cell_type": "code",
   "execution_count": 6,
   "metadata": {},
   "outputs": [],
   "source": [
    "def play_game(model, qmaze, pirate_cell):\n",
    "    qmaze.reset(pirate_cell)\n",
    "    envstate = qmaze.observe()\n",
    "    while True:\n",
    "        prev_envstate = envstate\n",
    "        # get next action\n",
    "        q = model.predict(prev_envstate)\n",
    "        action = np.argmax(q[0])\n",
    "\n",
    "        # apply action, get rewards and new state\n",
    "        envstate, reward, game_status = qmaze.act(action)\n",
    "        if game_status == 'win':\n",
    "            return True\n",
    "        elif game_status == 'lose':\n",
    "            return False"
   ]
  },
  {
   "cell_type": "markdown",
   "metadata": {},
   "source": [
    "This function helps you to determine whether the pirate can win any game at all. If your maze is not well designed, the pirate may not win any game at all. In this case, your training would not yield any result. The provided maze in this notebook ensures that there is a path to win and you can run this method to check."
   ]
  },
  {
   "cell_type": "code",
   "execution_count": 7,
   "metadata": {},
   "outputs": [],
   "source": [
    "def completion_check(model, qmaze):\n",
    "    for cell in qmaze.free_cells:\n",
    "        if not qmaze.valid_actions(cell):\n",
    "            return False\n",
    "        if not play_game(model, qmaze, cell):\n",
    "            return False\n",
    "    return True"
   ]
  },
  {
   "cell_type": "markdown",
   "metadata": {},
   "source": [
    "The code you have been given in this block will build the neural network model. Review the code and note the number of layers, as well as the activation, optimizer, and loss functions that are used to train the model."
   ]
  },
  {
   "cell_type": "code",
   "execution_count": 8,
   "metadata": {},
   "outputs": [],
   "source": [
    "def build_model(maze):\n",
    "    model = Sequential()\n",
    "    model.add(Dense(maze.size, input_shape=(maze.size,)))\n",
    "    model.add(PReLU())\n",
    "    model.add(Dense(maze.size))\n",
    "    model.add(PReLU())\n",
    "    model.add(Dense(num_actions))\n",
    "    model.compile(optimizer='adam', loss='mse')\n",
    "    return model"
   ]
  },
  {
   "cell_type": "markdown",
   "metadata": {},
   "source": [
    "# #TODO: Complete the Q-Training Algorithm Code Block\n",
    "\n",
    "This is your deep Q-learning implementation. The goal of your deep Q-learning implementation is to find the best possible navigation sequence that results in reaching the treasure cell while maximizing the reward. In your implementation, you need to determine the optimal number of epochs to achieve a 100% win rate.\n",
    "\n",
    "You will need to complete the section starting with #pseudocode. The pseudocode has been included for you."
   ]
  },
  {
   "cell_type": "code",
   "execution_count": 9,
   "metadata": {},
   "outputs": [],
   "source": [
    "def qtrain(model, maze, **opt):\n",
    "\n",
    "    # exploration factor\n",
    "    global epsilon \n",
    "\n",
    "    # number of epochs\n",
    "    n_epoch = opt.get('n_epoch', 15000)\n",
    "\n",
    "    # maximum memory to store episodes\n",
    "    max_memory = opt.get('max_memory', 1000)\n",
    "\n",
    "    # maximum data size for training\n",
    "    data_size = opt.get('data_size', 50)\n",
    "\n",
    "    # start time\n",
    "    start_time = datetime.datetime.now()\n",
    "\n",
    "    # Construct environment/game from numpy array: maze (see above)\n",
    "    qmaze = TreasureMaze(maze)\n",
    "\n",
    "    # Initialize experience replay object\n",
    "    experience = GameExperience(model, max_memory=max_memory)\n",
    "    \n",
    "    win_history = []   # history of win/lose game\n",
    "    hsize = qmaze.maze.size//2   # history window size\n",
    "    win_rate = 0.0\n",
    "    \n",
    "    # pseudocode:\n",
    "    # For each epoch:\n",
    "    #    Agent_cell = randomly select a free cell\n",
    "    #    Reset the maze with agent set to above position\n",
    "    #    Hint: Review the reset method in the TreasureMaze.py class.\n",
    "    #    envstate = Environment.current_state\n",
    "    #    Hint: Review the observe method in the TreasureMaze.py class.\n",
    "    #    While state is not game over:\n",
    "    #        previous_envstate = envstate\n",
    "    #        Action = randomly choose action (left, right, up, down) either by exploration or by exploitation\n",
    "    #        envstate, reward, game_status = qmaze.act(action)\n",
    "    #    Hint: Review the act method in the TreasureMaze.py class.\n",
    "    #        episode = [previous_envstate, action, reward, envstate, game_status]\n",
    "    #        Store episode in Experience replay object\n",
    "    #    Hint: Review the remember method in the GameExperience.py class.\n",
    "    #        Train neural network model and evaluate loss\n",
    "    #    Hint: Call GameExperience.get_data to retrieve training data (input and target) and pass to model.fit method \n",
    "    #          to train the model. You can call model.evaluate to determine loss.\n",
    "    #    If the win rate is above the threshold and your model passes the completion check, that would be your epoch.\n",
    "    \n",
    "    for epoch in range(n_epoch):\n",
    "        # Initialize variables for this epoch\n",
    "        n_episodes = 0\n",
    "        loss = 0.0\n",
    "\n",
    "        # Reset the maze and select a random starting cell for the agent\n",
    "        agent_cell = random.choice(qmaze.free_cells)\n",
    "        qmaze.reset(agent_cell)\n",
    "        envstate = qmaze.observe()\n",
    "\n",
    "        # Loop until the game is over\n",
    "        while True:\n",
    "            previous_envstate = envstate\n",
    "            valid_move = qmaze.valid_actions()\n",
    "\n",
    "            # Choose an action either by exploration or exploitation\n",
    "            if np.random.rand() < epsilon:\n",
    "                action = random.choice(valid_move)\n",
    "            else:\n",
    "                action = np.argmax(experience.predict(previous_envstate))\n",
    "\n",
    "            # Apply the action, get rewards and the new state\n",
    "            envstate, reward, game_status = qmaze.act(action)\n",
    "            \n",
    "            # log episode\n",
    "            n_episodes += 1\n",
    "\n",
    "            # Store the episode in the experience replay object\n",
    "            episode = [previous_envstate, action, reward, envstate, game_status]\n",
    "            experience.remember(episode)\n",
    "\n",
    "            # Get training data from the experience replay object\n",
    "            inputs, targets = experience.get_data(data_size=data_size)\n",
    "\n",
    "            # Train the neural network model and evaluate loss\n",
    "            loss += model.train_on_batch(inputs, targets)\n",
    "\n",
    "            # Check if the game is over, if so, end loop\n",
    "            if game_status == 'win' or game_status == 'lose':\n",
    "                break\n",
    "\n",
    "        # Update win history and calculate win rate for the completed epoch\n",
    "        win_history.append(1 if game_status == 'win' else 0)\n",
    "        win_rate = sum(win_history[-hsize:]) / hsize\n",
    "\n",
    "\n",
    "        #Print the epoch, loss, episodes, win count, and win rate for each epoch\n",
    "        dt = datetime.datetime.now() - start_time\n",
    "        t = format_time(dt.total_seconds())\n",
    "        template = \"Epoch: {:03d}/{:d} | Loss: {:.4f} | Episodes: {:d} | Win count: {:d} | Win rate: {:.3f} | time: {}\"\n",
    "        print(template.format(epoch, n_epoch-1, loss, n_episodes, sum(win_history), win_rate, t))\n",
    "        # We simply check if training has exhausted all free cells and if in all\n",
    "        # cases the agent won.\n",
    "        if win_rate > 0.9 : epsilon = 0.05\n",
    "        if sum(win_history[-hsize:]) == hsize and completion_check(model, qmaze):\n",
    "            print(\"Reached 100%% win rate at epoch: %d\" % (epoch,))\n",
    "            break\n",
    "    \n",
    "    \n",
    "    # Determine the total time for training\n",
    "    dt = datetime.datetime.now() - start_time\n",
    "    seconds = dt.total_seconds()\n",
    "    t = format_time(seconds)\n",
    "\n",
    "    print(\"n_epoch: %d, max_mem: %d, data: %d, time: %s\" % (epoch, max_memory, data_size, t))\n",
    "    return seconds\n",
    "\n",
    "# This is a small utility for printing readable time strings:\n",
    "def format_time(seconds):\n",
    "    if seconds < 400:\n",
    "        s = float(seconds)\n",
    "        return \"%.1f seconds\" % (s,)\n",
    "    elif seconds < 4000:\n",
    "        m = seconds / 60.0\n",
    "        return \"%.2f minutes\" % (m,)\n",
    "    else:\n",
    "        h = seconds / 3600.0\n",
    "        return \"%.2f hours\" % (h,)"
   ]
  },
  {
   "cell_type": "markdown",
   "metadata": {},
   "source": [
    "## Test Your Model\n",
    "\n",
    "Now we will start testing the deep Q-learning implementation. To begin, select **Cell**, then **Run All** from the menu bar. This will run your notebook. As it runs, you should see output begin to appear beneath the next few cells. The code below creates an instance of TreasureMaze."
   ]
  },
  {
   "cell_type": "code",
   "execution_count": 10,
   "metadata": {},
   "outputs": [
    {
     "data": {
      "text/plain": [
       "<matplotlib.image.AxesImage at 0x2065e0d4108>"
      ]
     },
     "execution_count": 10,
     "metadata": {},
     "output_type": "execute_result"
    },
    {
     "data": {
      "image/png": "[encoded data removed]",
      "text/plain": [
       "<Figure size 432x288 with 1 Axes>"
      ]
     },
     "metadata": {
      "needs_background": "light"
     },
     "output_type": "display_data"
    }
   ],
   "source": [
    "qmaze = TreasureMaze(maze)\n",
    "show(qmaze)"
   ]
  },
  {
   "cell_type": "markdown",
   "metadata": {},
   "source": [
    "In the next code block, you will build your model and train it using deep Q-learning. Note: This step takes several minutes to fully run."
   ]
  },
  {
   "cell_type": "code",
   "execution_count": 11,
   "metadata": {},
   "outputs": [
    {
     "name": "stdout",
     "output_type": "stream",
     "text": [
      "Epoch: 000/14999 | Loss: 0.4680 | Episodes: 139 | Win count: 0 | Win rate: 0.000 | time: 9.7 seconds\n",
      "Epoch: 001/14999 | Loss: 0.0123 | Episodes: 13 | Win count: 1 | Win rate: 0.031 | time: 10.6 seconds\n",
      "Epoch: 002/14999 | Loss: 0.4271 | Episodes: 135 | Win count: 1 | Win rate: 0.031 | time: 20.1 seconds\n",
      "Epoch: 003/14999 | Loss: 0.2997 | Episodes: 139 | Win count: 1 | Win rate: 0.031 | time: 29.5 seconds\n",
      "Epoch: 004/14999 | Loss: 0.2599 | Episodes: 139 | Win count: 1 | Win rate: 0.031 | time: 39.0 seconds\n",
      "Epoch: 005/14999 | Loss: 0.2506 | Episodes: 138 | Win count: 1 | Win rate: 0.031 | time: 48.1 seconds\n",
      "Epoch: 006/14999 | Loss: 0.1637 | Episodes: 142 | Win count: 1 | Win rate: 0.031 | time: 59.3 seconds\n",
      "Epoch: 007/14999 | Loss: 0.1548 | Episodes: 140 | Win count: 1 | Win rate: 0.031 | time: 77.4 seconds\n",
      "Epoch: 008/14999 | Loss: 0.1372 | Episodes: 135 | Win count: 1 | Win rate: 0.031 | time: 92.9 seconds\n",
      "Epoch: 009/14999 | Loss: 0.1481 | Episodes: 147 | Win count: 1 | Win rate: 0.031 | time: 107.9 seconds\n",
      "Epoch: 010/14999 | Loss: 0.1696 | Episodes: 147 | Win count: 1 | Win rate: 0.031 | time: 121.2 seconds\n",
      "Epoch: 011/14999 | Loss: 0.1876 | Episodes: 145 | Win count: 1 | Win rate: 0.031 | time: 134.2 seconds\n",
      "Epoch: 012/14999 | Loss: 0.2278 | Episodes: 150 | Win count: 1 | Win rate: 0.031 | time: 145.4 seconds\n",
      "Epoch: 013/14999 | Loss: 0.0399 | Episodes: 26 | Win count: 2 | Win rate: 0.062 | time: 147.3 seconds\n",
      "Epoch: 014/14999 | Loss: 0.3589 | Episodes: 150 | Win count: 2 | Win rate: 0.062 | time: 157.5 seconds\n",
      "Epoch: 015/14999 | Loss: 0.3138 | Episodes: 135 | Win count: 2 | Win rate: 0.062 | time: 166.6 seconds\n",
      "Epoch: 016/14999 | Loss: 0.3437 | Episodes: 142 | Win count: 2 | Win rate: 0.062 | time: 176.4 seconds\n",
      "Epoch: 017/14999 | Loss: 0.2648 | Episodes: 145 | Win count: 2 | Win rate: 0.062 | time: 185.9 seconds\n",
      "Epoch: 018/14999 | Loss: 0.1381 | Episodes: 136 | Win count: 2 | Win rate: 0.062 | time: 195.0 seconds\n",
      "Epoch: 019/14999 | Loss: 0.1379 | Episodes: 139 | Win count: 2 | Win rate: 0.062 | time: 205.3 seconds\n",
      "Epoch: 020/14999 | Loss: 0.1479 | Episodes: 148 | Win count: 2 | Win rate: 0.062 | time: 216.9 seconds\n",
      "Epoch: 021/14999 | Loss: 0.1366 | Episodes: 141 | Win count: 2 | Win rate: 0.062 | time: 228.2 seconds\n",
      "Epoch: 022/14999 | Loss: 0.0252 | Episodes: 24 | Win count: 3 | Win rate: 0.094 | time: 230.2 seconds\n",
      "Epoch: 023/14999 | Loss: 0.2377 | Episodes: 133 | Win count: 3 | Win rate: 0.094 | time: 241.4 seconds\n",
      "Epoch: 024/14999 | Loss: 0.2433 | Episodes: 139 | Win count: 3 | Win rate: 0.094 | time: 252.7 seconds\n",
      "Epoch: 025/14999 | Loss: 0.2435 | Episodes: 143 | Win count: 3 | Win rate: 0.094 | time: 264.4 seconds\n",
      "Epoch: 026/14999 | Loss: 0.1587 | Episodes: 135 | Win count: 3 | Win rate: 0.094 | time: 275.2 seconds\n",
      "Epoch: 027/14999 | Loss: 0.1080 | Episodes: 139 | Win count: 3 | Win rate: 0.094 | time: 288.8 seconds\n",
      "Epoch: 028/14999 | Loss: 0.0034 | Episodes: 6 | Win count: 4 | Win rate: 0.125 | time: 289.5 seconds\n",
      "Epoch: 029/14999 | Loss: 0.2229 | Episodes: 142 | Win count: 4 | Win rate: 0.125 | time: 304.0 seconds\n",
      "Epoch: 030/14999 | Loss: 0.2359 | Episodes: 149 | Win count: 4 | Win rate: 0.125 | time: 319.0 seconds\n",
      "Epoch: 031/14999 | Loss: 0.2503 | Episodes: 140 | Win count: 5 | Win rate: 0.156 | time: 332.8 seconds\n",
      "Epoch: 032/14999 | Loss: 0.3028 | Episodes: 143 | Win count: 5 | Win rate: 0.156 | time: 346.7 seconds\n",
      "Epoch: 033/14999 | Loss: 0.2778 | Episodes: 143 | Win count: 5 | Win rate: 0.125 | time: 360.7 seconds\n",
      "Epoch: 034/14999 | Loss: 0.0731 | Episodes: 46 | Win count: 6 | Win rate: 0.156 | time: 365.5 seconds\n",
      "Epoch: 035/14999 | Loss: 0.3936 | Episodes: 155 | Win count: 6 | Win rate: 0.156 | time: 380.7 seconds\n",
      "Epoch: 036/14999 | Loss: 0.2007 | Episodes: 83 | Win count: 7 | Win rate: 0.188 | time: 388.6 seconds\n",
      "Epoch: 037/14999 | Loss: 0.3480 | Episodes: 139 | Win count: 7 | Win rate: 0.188 | time: 6.70 minutes\n",
      "Epoch: 038/14999 | Loss: 0.2712 | Episodes: 100 | Win count: 8 | Win rate: 0.219 | time: 6.87 minutes\n",
      "Epoch: 039/14999 | Loss: 0.4132 | Episodes: 142 | Win count: 8 | Win rate: 0.219 | time: 7.10 minutes\n",
      "Epoch: 040/14999 | Loss: 0.0255 | Episodes: 17 | Win count: 9 | Win rate: 0.250 | time: 7.13 minutes\n",
      "Epoch: 041/14999 | Loss: 0.2965 | Episodes: 154 | Win count: 10 | Win rate: 0.281 | time: 7.38 minutes\n",
      "Epoch: 042/14999 | Loss: 0.0864 | Episodes: 44 | Win count: 11 | Win rate: 0.312 | time: 7.46 minutes\n",
      "Epoch: 043/14999 | Loss: 0.4912 | Episodes: 146 | Win count: 11 | Win rate: 0.312 | time: 7.69 minutes\n",
      "Epoch: 044/14999 | Loss: 0.4223 | Episodes: 146 | Win count: 11 | Win rate: 0.312 | time: 7.92 minutes\n",
      "Epoch: 045/14999 | Loss: 0.0336 | Episodes: 10 | Win count: 12 | Win rate: 0.312 | time: 7.94 minutes\n",
      "Epoch: 046/14999 | Loss: 0.2127 | Episodes: 58 | Win count: 13 | Win rate: 0.344 | time: 8.05 minutes\n",
      "Epoch: 047/14999 | Loss: 0.4221 | Episodes: 152 | Win count: 14 | Win rate: 0.375 | time: 8.31 minutes\n",
      "Epoch: 048/14999 | Loss: 0.0455 | Episodes: 23 | Win count: 15 | Win rate: 0.406 | time: 8.35 minutes\n",
      "Epoch: 049/14999 | Loss: 0.1006 | Episodes: 39 | Win count: 16 | Win rate: 0.438 | time: 8.43 minutes\n",
      "Epoch: 050/14999 | Loss: 0.0563 | Episodes: 22 | Win count: 17 | Win rate: 0.469 | time: 8.47 minutes\n",
      "Epoch: 051/14999 | Loss: 0.3126 | Episodes: 144 | Win count: 17 | Win rate: 0.469 | time: 8.73 minutes\n",
      "Epoch: 052/14999 | Loss: 0.2743 | Episodes: 137 | Win count: 18 | Win rate: 0.500 | time: 8.98 minutes\n",
      "Epoch: 053/14999 | Loss: 0.0996 | Episodes: 51 | Win count: 19 | Win rate: 0.531 | time: 9.07 minutes\n",
      "Epoch: 054/14999 | Loss: 0.0434 | Episodes: 24 | Win count: 20 | Win rate: 0.531 | time: 9.12 minutes\n",
      "Epoch: 055/14999 | Loss: 0.0551 | Episodes: 24 | Win count: 21 | Win rate: 0.562 | time: 9.16 minutes\n",
      "Epoch: 056/14999 | Loss: 0.0083 | Episodes: 5 | Win count: 22 | Win rate: 0.594 | time: 9.17 minutes\n",
      "Epoch: 057/14999 | Loss: 0.2727 | Episodes: 153 | Win count: 23 | Win rate: 0.625 | time: 9.45 minutes\n",
      "Epoch: 058/14999 | Loss: 0.0805 | Episodes: 50 | Win count: 24 | Win rate: 0.656 | time: 9.53 minutes\n",
      "Epoch: 059/14999 | Loss: 0.0582 | Episodes: 28 | Win count: 25 | Win rate: 0.688 | time: 9.58 minutes\n",
      "Epoch: 060/14999 | Loss: 0.0180 | Episodes: 10 | Win count: 26 | Win rate: 0.688 | time: 9.60 minutes\n",
      "Epoch: 061/14999 | Loss: 0.0960 | Episodes: 49 | Win count: 27 | Win rate: 0.719 | time: 9.68 minutes\n",
      "Epoch: 062/14999 | Loss: 0.0688 | Episodes: 32 | Win count: 28 | Win rate: 0.750 | time: 9.73 minutes\n",
      "Epoch: 063/14999 | Loss: 0.1453 | Episodes: 83 | Win count: 29 | Win rate: 0.750 | time: 9.87 minutes\n",
      "Epoch: 064/14999 | Loss: 0.0038 | Episodes: 2 | Win count: 30 | Win rate: 0.781 | time: 9.87 minutes\n",
      "Epoch: 065/14999 | Loss: 0.0213 | Episodes: 12 | Win count: 31 | Win rate: 0.812 | time: 9.89 minutes\n",
      "Epoch: 066/14999 | Loss: 0.0982 | Episodes: 57 | Win count: 32 | Win rate: 0.812 | time: 9.99 minutes\n",
      "Epoch: 067/14999 | Loss: 0.0103 | Episodes: 5 | Win count: 33 | Win rate: 0.844 | time: 10.00 minutes\n",
      "Epoch: 068/14999 | Loss: 0.0807 | Episodes: 39 | Win count: 34 | Win rate: 0.844 | time: 10.06 minutes\n",
      "Epoch: 069/14999 | Loss: 0.0484 | Episodes: 27 | Win count: 35 | Win rate: 0.875 | time: 10.11 minutes\n",
      "Epoch: 070/14999 | Loss: 0.0765 | Episodes: 44 | Win count: 36 | Win rate: 0.875 | time: 10.18 minutes\n",
      "Epoch: 071/14999 | Loss: 0.1929 | Episodes: 116 | Win count: 37 | Win rate: 0.906 | time: 10.38 minutes\n",
      "Epoch: 072/14999 | Loss: 0.1094 | Episodes: 61 | Win count: 38 | Win rate: 0.906 | time: 10.49 minutes\n",
      "Epoch: 073/14999 | Loss: 0.0441 | Episodes: 22 | Win count: 39 | Win rate: 0.906 | time: 10.53 minutes\n",
      "Epoch: 074/14999 | Loss: 0.0955 | Episodes: 49 | Win count: 40 | Win rate: 0.906 | time: 10.62 minutes\n",
      "Epoch: 075/14999 | Loss: 0.0315 | Episodes: 19 | Win count: 41 | Win rate: 0.938 | time: 10.65 minutes\n",
      "Epoch: 076/14999 | Loss: 0.0015 | Episodes: 1 | Win count: 42 | Win rate: 0.969 | time: 10.65 minutes\n",
      "Epoch: 077/14999 | Loss: 0.0189 | Episodes: 12 | Win count: 43 | Win rate: 0.969 | time: 10.67 minutes\n",
      "Epoch: 078/14999 | Loss: 0.1933 | Episodes: 119 | Win count: 44 | Win rate: 0.969 | time: 10.88 minutes\n",
      "Epoch: 079/14999 | Loss: 0.0457 | Episodes: 28 | Win count: 45 | Win rate: 0.969 | time: 10.93 minutes\n"
     ]
    },
    {
     "name": "stdout",
     "output_type": "stream",
     "text": [
      "Epoch: 080/14999 | Loss: 0.0022 | Episodes: 2 | Win count: 46 | Win rate: 0.969 | time: 10.93 minutes\n",
      "Epoch: 081/14999 | Loss: 0.1899 | Episodes: 130 | Win count: 47 | Win rate: 0.969 | time: 11.15 minutes\n",
      "Epoch: 082/14999 | Loss: 0.0130 | Episodes: 11 | Win count: 48 | Win rate: 0.969 | time: 11.17 minutes\n",
      "Epoch: 083/14999 | Loss: 0.0704 | Episodes: 56 | Win count: 49 | Win rate: 1.000 | time: 11.26 minutes\n",
      "Epoch: 084/14999 | Loss: 0.1517 | Episodes: 136 | Win count: 50 | Win rate: 1.000 | time: 11.50 minutes\n",
      "Epoch: 085/14999 | Loss: 0.0233 | Episodes: 23 | Win count: 51 | Win rate: 1.000 | time: 11.54 minutes\n",
      "Epoch: 086/14999 | Loss: 0.0168 | Episodes: 18 | Win count: 52 | Win rate: 1.000 | time: 11.57 minutes\n",
      "Epoch: 087/14999 | Loss: 0.0236 | Episodes: 28 | Win count: 53 | Win rate: 1.000 | time: 11.62 minutes\n",
      "Epoch: 088/14999 | Loss: 0.0249 | Episodes: 28 | Win count: 54 | Win rate: 1.000 | time: 11.67 minutes\n",
      "Epoch: 089/14999 | Loss: 0.0011 | Episodes: 1 | Win count: 55 | Win rate: 1.000 | time: 11.68 minutes\n",
      "Epoch: 090/14999 | Loss: 0.0304 | Episodes: 34 | Win count: 56 | Win rate: 1.000 | time: 11.74 minutes\n",
      "Epoch: 091/14999 | Loss: 0.0443 | Episodes: 45 | Win count: 57 | Win rate: 1.000 | time: 11.84 minutes\n",
      "Epoch: 092/14999 | Loss: 0.0184 | Episodes: 19 | Win count: 58 | Win rate: 1.000 | time: 11.88 minutes\n",
      "Epoch: 093/14999 | Loss: 0.0503 | Episodes: 43 | Win count: 59 | Win rate: 1.000 | time: 11.97 minutes\n",
      "Epoch: 094/14999 | Loss: 0.0055 | Episodes: 5 | Win count: 60 | Win rate: 1.000 | time: 11.99 minutes\n",
      "Epoch: 095/14999 | Loss: 0.0442 | Episodes: 39 | Win count: 61 | Win rate: 1.000 | time: 12.07 minutes\n",
      "Epoch: 096/14999 | Loss: 0.0174 | Episodes: 18 | Win count: 62 | Win rate: 1.000 | time: 12.11 minutes\n",
      "Epoch: 097/14999 | Loss: 0.0678 | Episodes: 53 | Win count: 63 | Win rate: 1.000 | time: 12.23 minutes\n",
      "Epoch: 098/14999 | Loss: 0.0228 | Episodes: 24 | Win count: 64 | Win rate: 1.000 | time: 12.29 minutes\n",
      "Epoch: 099/14999 | Loss: 0.0081 | Episodes: 8 | Win count: 65 | Win rate: 1.000 | time: 12.31 minutes\n",
      "Epoch: 100/14999 | Loss: 0.0143 | Episodes: 15 | Win count: 66 | Win rate: 1.000 | time: 12.35 minutes\n",
      "Epoch: 101/14999 | Loss: 0.0093 | Episodes: 11 | Win count: 67 | Win rate: 1.000 | time: 12.37 minutes\n",
      "Epoch: 102/14999 | Loss: 0.0365 | Episodes: 36 | Win count: 68 | Win rate: 1.000 | time: 12.45 minutes\n",
      "Epoch: 103/14999 | Loss: 0.0421 | Episodes: 46 | Win count: 69 | Win rate: 1.000 | time: 12.56 minutes\n",
      "Epoch: 104/14999 | Loss: 0.0199 | Episodes: 18 | Win count: 70 | Win rate: 1.000 | time: 12.60 minutes\n",
      "Epoch: 105/14999 | Loss: 0.0459 | Episodes: 39 | Win count: 71 | Win rate: 1.000 | time: 12.69 minutes\n",
      "Epoch: 106/14999 | Loss: 0.0079 | Episodes: 8 | Win count: 72 | Win rate: 1.000 | time: 12.71 minutes\n",
      "Epoch: 107/14999 | Loss: 0.0057 | Episodes: 5 | Win count: 73 | Win rate: 1.000 | time: 12.72 minutes\n",
      "Epoch: 108/14999 | Loss: 0.0091 | Episodes: 9 | Win count: 74 | Win rate: 1.000 | time: 12.75 minutes\n",
      "Epoch: 109/14999 | Loss: 0.0069 | Episodes: 7 | Win count: 75 | Win rate: 1.000 | time: 12.77 minutes\n",
      "Epoch: 110/14999 | Loss: 0.0417 | Episodes: 41 | Win count: 76 | Win rate: 1.000 | time: 12.86 minutes\n",
      "Epoch: 111/14999 | Loss: 0.0174 | Episodes: 20 | Win count: 77 | Win rate: 1.000 | time: 12.90 minutes\n",
      "Epoch: 112/14999 | Loss: 0.0437 | Episodes: 48 | Win count: 78 | Win rate: 1.000 | time: 13.02 minutes\n",
      "Epoch: 113/14999 | Loss: 0.0059 | Episodes: 7 | Win count: 79 | Win rate: 1.000 | time: 13.04 minutes\n",
      "Epoch: 114/14999 | Loss: 0.0020 | Episodes: 2 | Win count: 80 | Win rate: 1.000 | time: 13.05 minutes\n",
      "Epoch: 115/14999 | Loss: 0.0126 | Episodes: 17 | Win count: 81 | Win rate: 1.000 | time: 13.10 minutes\n",
      "Epoch: 116/14999 | Loss: 0.0023 | Episodes: 2 | Win count: 82 | Win rate: 1.000 | time: 13.11 minutes\n",
      "Epoch: 117/14999 | Loss: 0.0142 | Episodes: 18 | Win count: 83 | Win rate: 1.000 | time: 13.16 minutes\n",
      "Epoch: 118/14999 | Loss: 0.0087 | Episodes: 12 | Win count: 84 | Win rate: 1.000 | time: 13.19 minutes\n",
      "Epoch: 119/14999 | Loss: 0.0156 | Episodes: 23 | Win count: 85 | Win rate: 1.000 | time: 13.24 minutes\n",
      "Epoch: 120/14999 | Loss: 0.0070 | Episodes: 9 | Win count: 86 | Win rate: 1.000 | time: 13.27 minutes\n",
      "Epoch: 121/14999 | Loss: 0.0086 | Episodes: 12 | Win count: 87 | Win rate: 1.000 | time: 13.29 minutes\n",
      "Epoch: 122/14999 | Loss: 0.0086 | Episodes: 9 | Win count: 88 | Win rate: 1.000 | time: 13.32 minutes\n",
      "Epoch: 123/14999 | Loss: 0.0071 | Episodes: 8 | Win count: 89 | Win rate: 1.000 | time: 13.35 minutes\n",
      "Epoch: 124/14999 | Loss: 0.0225 | Episodes: 32 | Win count: 90 | Win rate: 1.000 | time: 13.44 minutes\n",
      "Epoch: 125/14999 | Loss: 0.0054 | Episodes: 11 | Win count: 91 | Win rate: 1.000 | time: 13.47 minutes\n",
      "Epoch: 126/14999 | Loss: 0.0046 | Episodes: 9 | Win count: 92 | Win rate: 1.000 | time: 13.50 minutes\n",
      "Epoch: 127/14999 | Loss: 0.0036 | Episodes: 8 | Win count: 93 | Win rate: 1.000 | time: 13.52 minutes\n",
      "Epoch: 128/14999 | Loss: 0.0141 | Episodes: 29 | Win count: 94 | Win rate: 1.000 | time: 13.60 minutes\n",
      "Epoch: 129/14999 | Loss: 0.0223 | Episodes: 37 | Win count: 95 | Win rate: 1.000 | time: 13.69 minutes\n",
      "Epoch: 130/14999 | Loss: 0.0036 | Episodes: 5 | Win count: 96 | Win rate: 1.000 | time: 13.71 minutes\n",
      "Epoch: 131/14999 | Loss: 0.0120 | Episodes: 20 | Win count: 97 | Win rate: 1.000 | time: 13.77 minutes\n",
      "Epoch: 132/14999 | Loss: 0.0138 | Episodes: 29 | Win count: 98 | Win rate: 1.000 | time: 13.85 minutes\n",
      "Epoch: 133/14999 | Loss: 0.0146 | Episodes: 25 | Win count: 99 | Win rate: 1.000 | time: 13.92 minutes\n",
      "Epoch: 134/14999 | Loss: 0.0227 | Episodes: 32 | Win count: 100 | Win rate: 1.000 | time: 14.00 minutes\n",
      "Epoch: 135/14999 | Loss: 0.0064 | Episodes: 11 | Win count: 101 | Win rate: 1.000 | time: 14.04 minutes\n",
      "Epoch: 136/14999 | Loss: 0.0202 | Episodes: 32 | Win count: 102 | Win rate: 1.000 | time: 14.12 minutes\n",
      "Epoch: 137/14999 | Loss: 0.0022 | Episodes: 4 | Win count: 103 | Win rate: 1.000 | time: 14.14 minutes\n",
      "Epoch: 138/14999 | Loss: 0.0061 | Episodes: 10 | Win count: 104 | Win rate: 1.000 | time: 14.17 minutes\n",
      "Epoch: 139/14999 | Loss: 0.0174 | Episodes: 30 | Win count: 105 | Win rate: 1.000 | time: 14.24 minutes\n",
      "Epoch: 140/14999 | Loss: 0.0213 | Episodes: 33 | Win count: 106 | Win rate: 1.000 | time: 14.33 minutes\n",
      "Epoch: 141/14999 | Loss: 0.0116 | Episodes: 21 | Win count: 107 | Win rate: 1.000 | time: 14.39 minutes\n",
      "Epoch: 142/14999 | Loss: 0.0163 | Episodes: 21 | Win count: 108 | Win rate: 1.000 | time: 14.43 minutes\n",
      "Epoch: 143/14999 | Loss: 0.0062 | Episodes: 7 | Win count: 109 | Win rate: 1.000 | time: 14.45 minutes\n",
      "Epoch: 144/14999 | Loss: 0.0069 | Episodes: 9 | Win count: 110 | Win rate: 1.000 | time: 14.47 minutes\n",
      "Epoch: 145/14999 | Loss: 0.0389 | Episodes: 41 | Win count: 111 | Win rate: 1.000 | time: 14.56 minutes\n",
      "Epoch: 146/14999 | Loss: 0.0258 | Episodes: 34 | Win count: 112 | Win rate: 1.000 | time: 14.64 minutes\n",
      "Epoch: 147/14999 | Loss: 0.0265 | Episodes: 32 | Win count: 113 | Win rate: 1.000 | time: 14.71 minutes\n",
      "Epoch: 148/14999 | Loss: 0.0104 | Episodes: 13 | Win count: 114 | Win rate: 1.000 | time: 14.74 minutes\n",
      "Epoch: 149/14999 | Loss: 0.0020 | Episodes: 2 | Win count: 115 | Win rate: 1.000 | time: 14.75 minutes\n",
      "Epoch: 150/14999 | Loss: 0.0048 | Episodes: 5 | Win count: 116 | Win rate: 1.000 | time: 14.76 minutes\n",
      "Epoch: 151/14999 | Loss: 0.0220 | Episodes: 29 | Win count: 117 | Win rate: 1.000 | time: 14.83 minutes\n",
      "Epoch: 152/14999 | Loss: 0.0025 | Episodes: 4 | Win count: 118 | Win rate: 1.000 | time: 14.84 minutes\n",
      "Epoch: 153/14999 | Loss: 0.0103 | Episodes: 13 | Win count: 119 | Win rate: 1.000 | time: 14.87 minutes\n",
      "Epoch: 154/14999 | Loss: 0.0646 | Episodes: 65 | Win count: 120 | Win rate: 1.000 | time: 15.02 minutes\n",
      "Epoch: 155/14999 | Loss: 0.0020 | Episodes: 2 | Win count: 121 | Win rate: 1.000 | time: 15.03 minutes\n",
      "Epoch: 156/14999 | Loss: 0.0082 | Episodes: 11 | Win count: 122 | Win rate: 1.000 | time: 15.06 minutes\n",
      "Epoch: 157/14999 | Loss: 0.0015 | Episodes: 2 | Win count: 123 | Win rate: 1.000 | time: 15.06 minutes\n",
      "Epoch: 158/14999 | Loss: 0.0170 | Episodes: 21 | Win count: 124 | Win rate: 1.000 | time: 15.11 minutes\n",
      "Epoch: 159/14999 | Loss: 0.0041 | Episodes: 6 | Win count: 125 | Win rate: 1.000 | time: 15.12 minutes\n"
     ]
    },
    {
     "name": "stdout",
     "output_type": "stream",
     "text": [
      "Epoch: 160/14999 | Loss: 0.0043 | Episodes: 7 | Win count: 126 | Win rate: 1.000 | time: 15.14 minutes\n",
      "Epoch: 161/14999 | Loss: 0.0176 | Episodes: 23 | Win count: 127 | Win rate: 1.000 | time: 15.20 minutes\n",
      "Epoch: 162/14999 | Loss: 0.0025 | Episodes: 3 | Win count: 128 | Win rate: 1.000 | time: 15.21 minutes\n",
      "Epoch: 163/14999 | Loss: 0.0217 | Episodes: 32 | Win count: 129 | Win rate: 1.000 | time: 15.29 minutes\n",
      "Epoch: 164/14999 | Loss: 0.0153 | Episodes: 22 | Win count: 130 | Win rate: 1.000 | time: 15.34 minutes\n",
      "Epoch: 165/14999 | Loss: 0.0167 | Episodes: 25 | Win count: 131 | Win rate: 1.000 | time: 15.40 minutes\n",
      "Epoch: 166/14999 | Loss: 0.0167 | Episodes: 25 | Win count: 132 | Win rate: 1.000 | time: 15.46 minutes\n",
      "Epoch: 167/14999 | Loss: 0.0146 | Episodes: 30 | Win count: 133 | Win rate: 1.000 | time: 15.54 minutes\n",
      "Epoch: 168/14999 | Loss: 0.0093 | Episodes: 14 | Win count: 134 | Win rate: 1.000 | time: 15.57 minutes\n",
      "Epoch: 169/14999 | Loss: 0.0124 | Episodes: 20 | Win count: 135 | Win rate: 1.000 | time: 15.62 minutes\n",
      "Epoch: 170/14999 | Loss: 0.0094 | Episodes: 16 | Win count: 136 | Win rate: 1.000 | time: 15.66 minutes\n",
      "Epoch: 171/14999 | Loss: 0.0110 | Episodes: 19 | Win count: 137 | Win rate: 1.000 | time: 15.71 minutes\n",
      "Epoch: 172/14999 | Loss: 0.0087 | Episodes: 19 | Win count: 138 | Win rate: 1.000 | time: 15.75 minutes\n",
      "Epoch: 173/14999 | Loss: 0.0109 | Episodes: 23 | Win count: 139 | Win rate: 1.000 | time: 15.81 minutes\n",
      "Epoch: 174/14999 | Loss: 0.0050 | Episodes: 13 | Win count: 140 | Win rate: 1.000 | time: 15.85 minutes\n",
      "Epoch: 175/14999 | Loss: 0.0059 | Episodes: 17 | Win count: 141 | Win rate: 1.000 | time: 15.89 minutes\n",
      "Epoch: 176/14999 | Loss: 0.0030 | Episodes: 10 | Win count: 142 | Win rate: 1.000 | time: 15.92 minutes\n",
      "Epoch: 177/14999 | Loss: 0.0044 | Episodes: 19 | Win count: 143 | Win rate: 1.000 | time: 15.97 minutes\n",
      "Epoch: 178/14999 | Loss: 0.0050 | Episodes: 17 | Win count: 144 | Win rate: 1.000 | time: 16.01 minutes\n",
      "Epoch: 179/14999 | Loss: 0.0081 | Episodes: 22 | Win count: 145 | Win rate: 1.000 | time: 16.07 minutes\n",
      "Epoch: 180/14999 | Loss: 0.0033 | Episodes: 10 | Win count: 146 | Win rate: 1.000 | time: 16.09 minutes\n",
      "Epoch: 181/14999 | Loss: 0.0054 | Episodes: 18 | Win count: 147 | Win rate: 1.000 | time: 16.14 minutes\n",
      "Epoch: 182/14999 | Loss: 0.0020 | Episodes: 7 | Win count: 148 | Win rate: 1.000 | time: 16.16 minutes\n",
      "Epoch: 183/14999 | Loss: 0.0120 | Episodes: 52 | Win count: 149 | Win rate: 1.000 | time: 16.28 minutes\n",
      "Epoch: 184/14999 | Loss: 0.0046 | Episodes: 13 | Win count: 150 | Win rate: 1.000 | time: 16.31 minutes\n",
      "Epoch: 185/14999 | Loss: 0.0045 | Episodes: 18 | Win count: 151 | Win rate: 1.000 | time: 16.35 minutes\n",
      "Epoch: 186/14999 | Loss: 0.0101 | Episodes: 33 | Win count: 152 | Win rate: 1.000 | time: 16.42 minutes\n",
      "Epoch: 187/14999 | Loss: 0.0021 | Episodes: 8 | Win count: 153 | Win rate: 1.000 | time: 16.44 minutes\n",
      "Epoch: 188/14999 | Loss: 0.0009 | Episodes: 6 | Win count: 154 | Win rate: 1.000 | time: 16.46 minutes\n",
      "Epoch: 189/14999 | Loss: 0.0103 | Episodes: 34 | Win count: 155 | Win rate: 1.000 | time: 16.54 minutes\n",
      "Epoch: 190/14999 | Loss: 0.0076 | Episodes: 21 | Win count: 156 | Win rate: 1.000 | time: 16.59 minutes\n",
      "Epoch: 191/14999 | Loss: 0.0129 | Episodes: 30 | Win count: 157 | Win rate: 1.000 | time: 16.66 minutes\n",
      "Epoch: 192/14999 | Loss: 0.0113 | Episodes: 24 | Win count: 158 | Win rate: 1.000 | time: 16.71 minutes\n",
      "Epoch: 193/14999 | Loss: 0.0041 | Episodes: 10 | Win count: 159 | Win rate: 1.000 | time: 16.74 minutes\n",
      "Epoch: 194/14999 | Loss: 0.0075 | Episodes: 23 | Win count: 160 | Win rate: 1.000 | time: 16.79 minutes\n",
      "Epoch: 195/14999 | Loss: 0.0046 | Episodes: 20 | Win count: 161 | Win rate: 1.000 | time: 16.84 minutes\n",
      "Epoch: 196/14999 | Loss: 0.0017 | Episodes: 7 | Win count: 162 | Win rate: 1.000 | time: 16.86 minutes\n",
      "Epoch: 197/14999 | Loss: 0.0180 | Episodes: 43 | Win count: 163 | Win rate: 1.000 | time: 16.96 minutes\n",
      "Epoch: 198/14999 | Loss: 0.0142 | Episodes: 30 | Win count: 164 | Win rate: 1.000 | time: 17.02 minutes\n",
      "Epoch: 199/14999 | Loss: 0.0010 | Episodes: 3 | Win count: 165 | Win rate: 1.000 | time: 17.03 minutes\n",
      "Epoch: 200/14999 | Loss: 0.0114 | Episodes: 27 | Win count: 166 | Win rate: 1.000 | time: 17.10 minutes\n",
      "Epoch: 201/14999 | Loss: 0.0158 | Episodes: 30 | Win count: 167 | Win rate: 1.000 | time: 17.17 minutes\n",
      "Epoch: 202/14999 | Loss: 0.0139 | Episodes: 30 | Win count: 168 | Win rate: 1.000 | time: 17.23 minutes\n",
      "Epoch: 203/14999 | Loss: 0.0105 | Episodes: 18 | Win count: 169 | Win rate: 1.000 | time: 17.27 minutes\n",
      "Epoch: 204/14999 | Loss: 0.0061 | Episodes: 10 | Win count: 170 | Win rate: 1.000 | time: 17.30 minutes\n",
      "Epoch: 205/14999 | Loss: 0.0232 | Episodes: 39 | Win count: 171 | Win rate: 1.000 | time: 17.38 minutes\n",
      "Epoch: 206/14999 | Loss: 0.0109 | Episodes: 17 | Win count: 172 | Win rate: 1.000 | time: 17.43 minutes\n",
      "Epoch: 207/14999 | Loss: 0.0167 | Episodes: 27 | Win count: 173 | Win rate: 1.000 | time: 17.49 minutes\n",
      "Epoch: 208/14999 | Loss: 0.0109 | Episodes: 14 | Win count: 174 | Win rate: 1.000 | time: 17.52 minutes\n",
      "Epoch: 209/14999 | Loss: 0.0187 | Episodes: 25 | Win count: 175 | Win rate: 1.000 | time: 17.58 minutes\n",
      "Epoch: 210/14999 | Loss: 0.0084 | Episodes: 10 | Win count: 176 | Win rate: 1.000 | time: 17.61 minutes\n",
      "Epoch: 211/14999 | Loss: 0.0093 | Episodes: 13 | Win count: 177 | Win rate: 1.000 | time: 17.64 minutes\n",
      "Epoch: 212/14999 | Loss: 0.0203 | Episodes: 24 | Win count: 178 | Win rate: 1.000 | time: 17.69 minutes\n",
      "Epoch: 213/14999 | Loss: 0.0055 | Episodes: 7 | Win count: 179 | Win rate: 1.000 | time: 17.71 minutes\n",
      "Epoch: 214/14999 | Loss: 0.0050 | Episodes: 7 | Win count: 180 | Win rate: 1.000 | time: 17.73 minutes\n",
      "Epoch: 215/14999 | Loss: 0.0189 | Episodes: 26 | Win count: 181 | Win rate: 1.000 | time: 17.79 minutes\n",
      "Epoch: 216/14999 | Loss: 0.0153 | Episodes: 16 | Win count: 182 | Win rate: 1.000 | time: 17.84 minutes\n",
      "Epoch: 217/14999 | Loss: 0.0179 | Episodes: 22 | Win count: 183 | Win rate: 1.000 | time: 17.89 minutes\n",
      "Epoch: 218/14999 | Loss: 0.0112 | Episodes: 16 | Win count: 184 | Win rate: 1.000 | time: 17.93 minutes\n",
      "Epoch: 219/14999 | Loss: 0.0014 | Episodes: 3 | Win count: 185 | Win rate: 1.000 | time: 17.94 minutes\n",
      "Epoch: 220/14999 | Loss: 0.0017 | Episodes: 2 | Win count: 186 | Win rate: 1.000 | time: 17.96 minutes\n",
      "Epoch: 221/14999 | Loss: 0.0060 | Episodes: 7 | Win count: 187 | Win rate: 1.000 | time: 17.98 minutes\n",
      "Epoch: 222/14999 | Loss: 0.0216 | Episodes: 24 | Win count: 188 | Win rate: 1.000 | time: 18.04 minutes\n",
      "Epoch: 223/14999 | Loss: 0.0340 | Episodes: 30 | Win count: 189 | Win rate: 1.000 | time: 18.11 minutes\n",
      "Epoch: 224/14999 | Loss: 0.0480 | Episodes: 55 | Win count: 190 | Win rate: 1.000 | time: 18.24 minutes\n",
      "Epoch: 225/14999 | Loss: 0.0201 | Episodes: 20 | Win count: 191 | Win rate: 1.000 | time: 18.28 minutes\n",
      "Epoch: 226/14999 | Loss: 0.0217 | Episodes: 25 | Win count: 192 | Win rate: 1.000 | time: 18.35 minutes\n",
      "Epoch: 227/14999 | Loss: 0.0237 | Episodes: 24 | Win count: 193 | Win rate: 1.000 | time: 18.41 minutes\n",
      "Epoch: 228/14999 | Loss: 0.0223 | Episodes: 22 | Win count: 194 | Win rate: 1.000 | time: 18.48 minutes\n",
      "Epoch: 229/14999 | Loss: 0.0046 | Episodes: 5 | Win count: 195 | Win rate: 1.000 | time: 18.50 minutes\n",
      "Epoch: 230/14999 | Loss: 0.0234 | Episodes: 25 | Win count: 196 | Win rate: 1.000 | time: 18.57 minutes\n",
      "Epoch: 231/14999 | Loss: 0.0175 | Episodes: 18 | Win count: 197 | Win rate: 1.000 | time: 18.62 minutes\n",
      "Epoch: 232/14999 | Loss: 0.0153 | Episodes: 19 | Win count: 198 | Win rate: 1.000 | time: 18.67 minutes\n",
      "Epoch: 233/14999 | Loss: 0.0576 | Episodes: 72 | Win count: 199 | Win rate: 1.000 | time: 18.87 minutes\n",
      "Epoch: 234/14999 | Loss: 0.0068 | Episodes: 11 | Win count: 200 | Win rate: 1.000 | time: 18.90 minutes\n",
      "Epoch: 235/14999 | Loss: 0.0140 | Episodes: 17 | Win count: 201 | Win rate: 1.000 | time: 18.95 minutes\n",
      "Epoch: 236/14999 | Loss: 0.0224 | Episodes: 30 | Win count: 202 | Win rate: 1.000 | time: 19.04 minutes\n",
      "Epoch: 237/14999 | Loss: 0.0283 | Episodes: 34 | Win count: 203 | Win rate: 1.000 | time: 19.14 minutes\n",
      "Epoch: 238/14999 | Loss: 0.0019 | Episodes: 3 | Win count: 204 | Win rate: 1.000 | time: 19.15 minutes\n"
     ]
    },
    {
     "name": "stdout",
     "output_type": "stream",
     "text": [
      "Epoch: 239/14999 | Loss: 0.0205 | Episodes: 28 | Win count: 205 | Win rate: 1.000 | time: 19.23 minutes\n",
      "Epoch: 240/14999 | Loss: 0.0164 | Episodes: 18 | Win count: 206 | Win rate: 1.000 | time: 19.28 minutes\n",
      "Epoch: 241/14999 | Loss: 0.0256 | Episodes: 29 | Win count: 207 | Win rate: 1.000 | time: 19.35 minutes\n",
      "Epoch: 242/14999 | Loss: 0.0343 | Episodes: 37 | Win count: 208 | Win rate: 1.000 | time: 19.43 minutes\n",
      "Epoch: 243/14999 | Loss: 0.0114 | Episodes: 15 | Win count: 209 | Win rate: 1.000 | time: 19.47 minutes\n",
      "Epoch: 244/14999 | Loss: 0.0311 | Episodes: 41 | Win count: 210 | Win rate: 1.000 | time: 19.56 minutes\n",
      "Epoch: 245/14999 | Loss: 0.0079 | Episodes: 12 | Win count: 211 | Win rate: 1.000 | time: 19.59 minutes\n",
      "Epoch: 246/14999 | Loss: 0.0023 | Episodes: 5 | Win count: 212 | Win rate: 1.000 | time: 19.60 minutes\n",
      "Epoch: 247/14999 | Loss: 0.0185 | Episodes: 29 | Win count: 213 | Win rate: 1.000 | time: 19.67 minutes\n",
      "Epoch: 248/14999 | Loss: 0.0174 | Episodes: 25 | Win count: 214 | Win rate: 1.000 | time: 19.74 minutes\n",
      "Epoch: 249/14999 | Loss: 0.0533 | Episodes: 62 | Win count: 215 | Win rate: 1.000 | time: 19.87 minutes\n",
      "Epoch: 250/14999 | Loss: 0.0100 | Episodes: 13 | Win count: 216 | Win rate: 1.000 | time: 19.91 minutes\n",
      "Epoch: 251/14999 | Loss: 0.0201 | Episodes: 22 | Win count: 217 | Win rate: 1.000 | time: 19.96 minutes\n",
      "Epoch: 252/14999 | Loss: 0.0154 | Episodes: 19 | Win count: 218 | Win rate: 1.000 | time: 20.01 minutes\n",
      "Epoch: 253/14999 | Loss: 0.0146 | Episodes: 19 | Win count: 219 | Win rate: 1.000 | time: 20.05 minutes\n",
      "Epoch: 254/14999 | Loss: 0.0161 | Episodes: 18 | Win count: 220 | Win rate: 1.000 | time: 20.10 minutes\n",
      "Epoch: 255/14999 | Loss: 0.0229 | Episodes: 33 | Win count: 221 | Win rate: 1.000 | time: 20.17 minutes\n",
      "Epoch: 256/14999 | Loss: 0.0097 | Episodes: 13 | Win count: 222 | Win rate: 1.000 | time: 20.21 minutes\n",
      "Epoch: 257/14999 | Loss: 0.0351 | Episodes: 46 | Win count: 223 | Win rate: 1.000 | time: 20.32 minutes\n",
      "Epoch: 258/14999 | Loss: 0.0314 | Episodes: 35 | Win count: 224 | Win rate: 1.000 | time: 20.41 minutes\n",
      "Epoch: 259/14999 | Loss: 0.0101 | Episodes: 13 | Win count: 225 | Win rate: 1.000 | time: 20.44 minutes\n",
      "Epoch: 260/14999 | Loss: 0.0213 | Episodes: 26 | Win count: 226 | Win rate: 1.000 | time: 20.50 minutes\n",
      "Epoch: 261/14999 | Loss: 0.0135 | Episodes: 15 | Win count: 227 | Win rate: 1.000 | time: 20.54 minutes\n",
      "Epoch: 262/14999 | Loss: 0.0145 | Episodes: 17 | Win count: 228 | Win rate: 1.000 | time: 20.58 minutes\n",
      "Epoch: 263/14999 | Loss: 0.0026 | Episodes: 3 | Win count: 229 | Win rate: 1.000 | time: 20.59 minutes\n",
      "Epoch: 264/14999 | Loss: 0.0011 | Episodes: 1 | Win count: 230 | Win rate: 1.000 | time: 20.60 minutes\n",
      "Epoch: 265/14999 | Loss: 0.0140 | Episodes: 17 | Win count: 231 | Win rate: 1.000 | time: 20.64 minutes\n",
      "Epoch: 266/14999 | Loss: 0.0497 | Episodes: 49 | Win count: 232 | Win rate: 1.000 | time: 20.76 minutes\n",
      "Epoch: 267/14999 | Loss: 0.0166 | Episodes: 21 | Win count: 233 | Win rate: 1.000 | time: 20.80 minutes\n",
      "Epoch: 268/14999 | Loss: 0.0149 | Episodes: 20 | Win count: 234 | Win rate: 1.000 | time: 20.85 minutes\n",
      "Epoch: 269/14999 | Loss: 0.0217 | Episodes: 27 | Win count: 235 | Win rate: 1.000 | time: 20.91 minutes\n",
      "Epoch: 270/14999 | Loss: 0.0107 | Episodes: 13 | Win count: 236 | Win rate: 1.000 | time: 20.95 minutes\n",
      "Epoch: 271/14999 | Loss: 0.0119 | Episodes: 15 | Win count: 237 | Win rate: 1.000 | time: 20.98 minutes\n",
      "Epoch: 272/14999 | Loss: 0.0169 | Episodes: 17 | Win count: 238 | Win rate: 1.000 | time: 21.03 minutes\n",
      "Epoch: 273/14999 | Loss: 0.0278 | Episodes: 37 | Win count: 239 | Win rate: 1.000 | time: 21.11 minutes\n",
      "Epoch: 274/14999 | Loss: 0.0175 | Episodes: 28 | Win count: 240 | Win rate: 1.000 | time: 21.17 minutes\n",
      "Epoch: 275/14999 | Loss: 0.0188 | Episodes: 28 | Win count: 241 | Win rate: 1.000 | time: 21.23 minutes\n",
      "Epoch: 276/14999 | Loss: 0.0165 | Episodes: 23 | Win count: 242 | Win rate: 1.000 | time: 21.29 minutes\n",
      "Epoch: 277/14999 | Loss: 0.0026 | Episodes: 4 | Win count: 243 | Win rate: 1.000 | time: 21.30 minutes\n",
      "Epoch: 278/14999 | Loss: 0.0005 | Episodes: 1 | Win count: 244 | Win rate: 1.000 | time: 21.30 minutes\n",
      "Epoch: 279/14999 | Loss: 0.0194 | Episodes: 20 | Win count: 245 | Win rate: 1.000 | time: 21.35 minutes\n",
      "Epoch: 280/14999 | Loss: 0.0232 | Episodes: 27 | Win count: 246 | Win rate: 1.000 | time: 21.41 minutes\n",
      "Epoch: 281/14999 | Loss: 0.0020 | Episodes: 2 | Win count: 247 | Win rate: 1.000 | time: 21.42 minutes\n",
      "Epoch: 282/14999 | Loss: 0.0383 | Episodes: 41 | Win count: 248 | Win rate: 1.000 | time: 21.52 minutes\n",
      "Epoch: 283/14999 | Loss: 0.0289 | Episodes: 35 | Win count: 249 | Win rate: 1.000 | time: 21.60 minutes\n",
      "Epoch: 284/14999 | Loss: 0.0023 | Episodes: 4 | Win count: 250 | Win rate: 1.000 | time: 21.61 minutes\n",
      "Epoch: 285/14999 | Loss: 0.0147 | Episodes: 19 | Win count: 251 | Win rate: 1.000 | time: 21.65 minutes\n",
      "Epoch: 286/14999 | Loss: 0.0195 | Episodes: 27 | Win count: 252 | Win rate: 1.000 | time: 21.71 minutes\n",
      "Epoch: 287/14999 | Loss: 0.0013 | Episodes: 2 | Win count: 253 | Win rate: 1.000 | time: 21.72 minutes\n",
      "Epoch: 288/14999 | Loss: 0.0213 | Episodes: 29 | Win count: 254 | Win rate: 1.000 | time: 21.78 minutes\n",
      "Epoch: 289/14999 | Loss: 0.0012 | Episodes: 1 | Win count: 255 | Win rate: 1.000 | time: 21.79 minutes\n",
      "Epoch: 290/14999 | Loss: 0.0232 | Episodes: 33 | Win count: 256 | Win rate: 1.000 | time: 21.86 minutes\n",
      "Epoch: 291/14999 | Loss: 0.0083 | Episodes: 15 | Win count: 257 | Win rate: 1.000 | time: 21.90 minutes\n",
      "Epoch: 292/14999 | Loss: 0.0236 | Episodes: 41 | Win count: 258 | Win rate: 1.000 | time: 21.99 minutes\n",
      "Epoch: 293/14999 | Loss: 0.0180 | Episodes: 24 | Win count: 259 | Win rate: 1.000 | time: 22.04 minutes\n",
      "Epoch: 294/14999 | Loss: 0.0258 | Episodes: 41 | Win count: 260 | Win rate: 1.000 | time: 22.14 minutes\n",
      "Epoch: 295/14999 | Loss: 0.0236 | Episodes: 39 | Win count: 261 | Win rate: 1.000 | time: 22.24 minutes\n",
      "Epoch: 296/14999 | Loss: 0.0214 | Episodes: 32 | Win count: 262 | Win rate: 1.000 | time: 22.31 minutes\n",
      "Epoch: 297/14999 | Loss: 0.0007 | Episodes: 1 | Win count: 263 | Win rate: 1.000 | time: 22.31 minutes\n",
      "Epoch: 298/14999 | Loss: 0.0312 | Episodes: 42 | Win count: 264 | Win rate: 1.000 | time: 22.41 minutes\n",
      "Epoch: 299/14999 | Loss: 0.0162 | Episodes: 26 | Win count: 265 | Win rate: 1.000 | time: 22.48 minutes\n",
      "Epoch: 300/14999 | Loss: 0.0282 | Episodes: 42 | Win count: 266 | Win rate: 1.000 | time: 22.59 minutes\n",
      "Epoch: 301/14999 | Loss: 0.0152 | Episodes: 23 | Win count: 267 | Win rate: 1.000 | time: 22.64 minutes\n",
      "Epoch: 302/14999 | Loss: 0.0041 | Episodes: 7 | Win count: 268 | Win rate: 1.000 | time: 22.66 minutes\n",
      "Epoch: 303/14999 | Loss: 0.0247 | Episodes: 38 | Win count: 269 | Win rate: 1.000 | time: 22.74 minutes\n",
      "Epoch: 304/14999 | Loss: 0.0116 | Episodes: 16 | Win count: 270 | Win rate: 1.000 | time: 22.78 minutes\n",
      "Epoch: 305/14999 | Loss: 0.0097 | Episodes: 17 | Win count: 271 | Win rate: 1.000 | time: 22.82 minutes\n",
      "Epoch: 306/14999 | Loss: 0.0035 | Episodes: 7 | Win count: 272 | Win rate: 1.000 | time: 22.84 minutes\n",
      "Epoch: 307/14999 | Loss: 0.0251 | Episodes: 32 | Win count: 273 | Win rate: 1.000 | time: 22.92 minutes\n",
      "Epoch: 308/14999 | Loss: 0.0045 | Episodes: 6 | Win count: 274 | Win rate: 1.000 | time: 22.94 minutes\n",
      "Epoch: 309/14999 | Loss: 0.0217 | Episodes: 34 | Win count: 275 | Win rate: 1.000 | time: 23.02 minutes\n",
      "Epoch: 310/14999 | Loss: 0.0048 | Episodes: 7 | Win count: 276 | Win rate: 1.000 | time: 23.04 minutes\n",
      "Epoch: 311/14999 | Loss: 0.0164 | Episodes: 25 | Win count: 277 | Win rate: 1.000 | time: 23.10 minutes\n",
      "Epoch: 312/14999 | Loss: 0.0178 | Episodes: 23 | Win count: 278 | Win rate: 1.000 | time: 23.16 minutes\n",
      "Epoch: 313/14999 | Loss: 0.0158 | Episodes: 19 | Win count: 279 | Win rate: 1.000 | time: 23.20 minutes\n",
      "Epoch: 314/14999 | Loss: 0.0189 | Episodes: 26 | Win count: 280 | Win rate: 1.000 | time: 23.26 minutes\n",
      "Epoch: 315/14999 | Loss: 0.0013 | Episodes: 2 | Win count: 281 | Win rate: 1.000 | time: 23.27 minutes\n",
      "Epoch: 316/14999 | Loss: 0.0259 | Episodes: 32 | Win count: 282 | Win rate: 1.000 | time: 23.34 minutes\n",
      "Epoch: 317/14999 | Loss: 0.0220 | Episodes: 30 | Win count: 283 | Win rate: 1.000 | time: 23.42 minutes\n"
     ]
    },
    {
     "name": "stdout",
     "output_type": "stream",
     "text": [
      "Epoch: 318/14999 | Loss: 0.0067 | Episodes: 12 | Win count: 284 | Win rate: 1.000 | time: 23.45 minutes\n",
      "Epoch: 319/14999 | Loss: 0.0095 | Episodes: 14 | Win count: 285 | Win rate: 1.000 | time: 23.50 minutes\n",
      "Epoch: 320/14999 | Loss: 0.0171 | Episodes: 28 | Win count: 286 | Win rate: 1.000 | time: 23.57 minutes\n",
      "Epoch: 321/14999 | Loss: 0.0023 | Episodes: 5 | Win count: 287 | Win rate: 1.000 | time: 23.59 minutes\n",
      "Epoch: 322/14999 | Loss: 0.0105 | Episodes: 19 | Win count: 288 | Win rate: 1.000 | time: 23.64 minutes\n",
      "Epoch: 323/14999 | Loss: 0.0010 | Episodes: 2 | Win count: 289 | Win rate: 1.000 | time: 23.65 minutes\n",
      "Epoch: 324/14999 | Loss: 0.0150 | Episodes: 28 | Win count: 290 | Win rate: 1.000 | time: 23.73 minutes\n",
      "Epoch: 325/14999 | Loss: 0.0031 | Episodes: 7 | Win count: 291 | Win rate: 1.000 | time: 23.75 minutes\n",
      "Epoch: 326/14999 | Loss: 0.0457 | Episodes: 75 | Win count: 292 | Win rate: 1.000 | time: 23.94 minutes\n",
      "Epoch: 327/14999 | Loss: 0.0076 | Episodes: 13 | Win count: 293 | Win rate: 1.000 | time: 23.98 minutes\n",
      "Epoch: 328/14999 | Loss: 0.0029 | Episodes: 7 | Win count: 294 | Win rate: 1.000 | time: 24.00 minutes\n",
      "Epoch: 329/14999 | Loss: 0.0104 | Episodes: 24 | Win count: 295 | Win rate: 1.000 | time: 24.06 minutes\n",
      "Epoch: 330/14999 | Loss: 0.0118 | Episodes: 29 | Win count: 296 | Win rate: 1.000 | time: 24.14 minutes\n",
      "Epoch: 331/14999 | Loss: 0.0071 | Episodes: 20 | Win count: 297 | Win rate: 1.000 | time: 24.19 minutes\n",
      "Epoch: 332/14999 | Loss: 0.0068 | Episodes: 26 | Win count: 298 | Win rate: 1.000 | time: 24.26 minutes\n",
      "Epoch: 333/14999 | Loss: 0.0136 | Episodes: 29 | Win count: 299 | Win rate: 1.000 | time: 24.34 minutes\n",
      "Epoch: 334/14999 | Loss: 0.0030 | Episodes: 5 | Win count: 300 | Win rate: 1.000 | time: 24.36 minutes\n",
      "Epoch: 335/14999 | Loss: 0.0068 | Episodes: 17 | Win count: 301 | Win rate: 1.000 | time: 24.40 minutes\n",
      "Epoch: 336/14999 | Loss: 0.0104 | Episodes: 23 | Win count: 302 | Win rate: 1.000 | time: 24.45 minutes\n",
      "Epoch: 337/14999 | Loss: 0.0078 | Episodes: 23 | Win count: 303 | Win rate: 1.000 | time: 24.51 minutes\n",
      "Epoch: 338/14999 | Loss: 0.0071 | Episodes: 21 | Win count: 304 | Win rate: 1.000 | time: 24.56 minutes\n",
      "Epoch: 339/14999 | Loss: 0.0059 | Episodes: 19 | Win count: 305 | Win rate: 1.000 | time: 24.61 minutes\n",
      "Epoch: 340/14999 | Loss: 0.0058 | Episodes: 17 | Win count: 306 | Win rate: 1.000 | time: 24.64 minutes\n",
      "Epoch: 341/14999 | Loss: 0.0059 | Episodes: 13 | Win count: 307 | Win rate: 1.000 | time: 24.68 minutes\n",
      "Epoch: 342/14999 | Loss: 0.0136 | Episodes: 32 | Win count: 308 | Win rate: 1.000 | time: 24.76 minutes\n",
      "Epoch: 343/14999 | Loss: 0.0047 | Episodes: 24 | Win count: 309 | Win rate: 1.000 | time: 24.81 minutes\n",
      "Epoch: 344/14999 | Loss: 0.0015 | Episodes: 5 | Win count: 310 | Win rate: 1.000 | time: 24.83 minutes\n",
      "Epoch: 345/14999 | Loss: 0.0080 | Episodes: 25 | Win count: 311 | Win rate: 1.000 | time: 24.88 minutes\n",
      "Epoch: 346/14999 | Loss: 0.0094 | Episodes: 24 | Win count: 312 | Win rate: 1.000 | time: 24.94 minutes\n",
      "Epoch: 347/14999 | Loss: 0.0052 | Episodes: 17 | Win count: 313 | Win rate: 1.000 | time: 24.98 minutes\n",
      "Epoch: 348/14999 | Loss: 0.0020 | Episodes: 6 | Win count: 314 | Win rate: 1.000 | time: 25.00 minutes\n",
      "Epoch: 349/14999 | Loss: 0.0020 | Episodes: 13 | Win count: 315 | Win rate: 1.000 | time: 25.03 minutes\n",
      "Epoch: 350/14999 | Loss: 0.0042 | Episodes: 18 | Win count: 316 | Win rate: 1.000 | time: 25.07 minutes\n",
      "Epoch: 351/14999 | Loss: 0.0055 | Episodes: 18 | Win count: 317 | Win rate: 1.000 | time: 25.12 minutes\n",
      "Epoch: 352/14999 | Loss: 0.0040 | Episodes: 11 | Win count: 318 | Win rate: 1.000 | time: 25.14 minutes\n",
      "Epoch: 353/14999 | Loss: 0.0004 | Episodes: 1 | Win count: 319 | Win rate: 1.000 | time: 25.15 minutes\n",
      "Epoch: 354/14999 | Loss: 0.0032 | Episodes: 14 | Win count: 320 | Win rate: 1.000 | time: 25.19 minutes\n",
      "Epoch: 355/14999 | Loss: 0.0066 | Episodes: 23 | Win count: 321 | Win rate: 1.000 | time: 25.24 minutes\n",
      "Epoch: 356/14999 | Loss: 0.0082 | Episodes: 21 | Win count: 322 | Win rate: 1.000 | time: 25.30 minutes\n",
      "Reached 100% win rate at epoch: 356\n",
      "n_epoch: 356, max_mem: 512, data: 32, time: 25.31 minutes\n"
     ]
    },
    {
     "data": {
      "text/plain": [
       "1518.395758"
      ]
     },
     "execution_count": 11,
     "metadata": {},
     "output_type": "execute_result"
    }
   ],
   "source": [
    "model = build_model(maze)\n",
    "qtrain(model, maze, epochs=1000, max_memory=8*maze.size, data_size=32)"
   ]
  },
  {
   "cell_type": "markdown",
   "metadata": {},
   "source": [
    "This cell will check to see if the model passes the completion check. Note: This could take several minutes."
   ]
  },
  {
   "cell_type": "code",
   "execution_count": 12,
   "metadata": {},
   "outputs": [
    {
     "data": {
      "text/plain": [
       "<matplotlib.image.AxesImage at 0x20665910ec8>"
      ]
     },
     "execution_count": 12,
     "metadata": {},
     "output_type": "execute_result"
    },
    {
     "data": {
      "image/png": "[encoded data removed]",
      "text/plain": [
       "<Figure size 432x288 with 1 Axes>"
      ]
     },
     "metadata": {
      "needs_background": "light"
     },
     "output_type": "display_data"
    }
   ],
   "source": [
    "completion_check(model, qmaze)\n",
    "show(qmaze)"
   ]
  },
  {
   "cell_type": "markdown",
   "metadata": {},
   "source": [
    "This cell will test your model for one game. It will start the pirate at the top-left corner and run play_game. The agent should find a path from the starting position to the target (treasure). The treasure is located in the bottom-right corner."
   ]
  },
  {
   "cell_type": "code",
   "execution_count": 13,
   "metadata": {},
   "outputs": [
    {
     "data": {
      "text/plain": [
       "<matplotlib.image.AxesImage at 0x20666ab1b48>"
      ]
     },
     "execution_count": 13,
     "metadata": {},
     "output_type": "execute_result"
    },
    {
     "data": {
      "image/png": "[encoded data removed]",
      "text/plain": [
       "<Figure size 432x288 with 1 Axes>"
      ]
     },
     "metadata": {
      "needs_background": "light"
     },
     "output_type": "display_data"
    }
   ],
   "source": [
    "pirate_start = (0, 0)\n",
    "play_game(model, qmaze, pirate_start)\n",
    "show(qmaze)"
   ]
  },
  {
   "cell_type": "markdown",
   "metadata": {},
   "source": [
    "## Save and Submit Your Work\n",
    "After you have finished creating the code for your notebook, save your work. Make sure that your notebook contains your name in the filename (e.g. Doe_Jane_ProjectTwo.ipynb). This will help your instructor access and grade your work easily. Download a copy of your IPYNB file and submit it to Brightspace. Refer to the Jupyter Notebook in Apporto Tutorial if you need help with these tasks."
   ]
  }
 ],
 "metadata": {
  "kernelspec": {
   "display_name": "Python 3",
   "language": "python",
   "name": "python3"
  },
  "language_info": {
   "codemirror_mode": {
    "name": "ipython",
    "version": 3
   },
   "file_extension": ".py",
   "mimetype": "text/x-python",
   "name": "python",
   "nbconvert_exporter": "python",
   "pygments_lexer": "ipython3",
   "version": "3.7.4"
  }
 },
 "nbformat": 4,
 "nbformat_minor": 2
}
